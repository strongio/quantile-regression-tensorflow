{
 "cells": [
  {
   "cell_type": "code",
   "execution_count": 1,
   "metadata": {},
   "outputs": [],
   "source": [
    "from tensorflow.keras.layers.experimental import preprocessing\n",
    "from tensorflow.keras import layers\n",
    "import matplotlib.pyplot as plt\n",
    "import tensorflow as tf\n",
    "import pandas as pd\n",
    "import numpy as np"
   ]
  },
  {
   "cell_type": "code",
   "execution_count": 12,
   "metadata": {},
   "outputs": [
    {
     "data": {
      "text/plain": [
       "'2.3.1'"
      ]
     },
     "execution_count": 12,
     "metadata": {},
     "output_type": "execute_result"
    }
   ],
   "source": [
    "tf.__version__"
   ]
  },
  {
   "cell_type": "code",
   "execution_count": 3,
   "metadata": {},
   "outputs": [],
   "source": [
    "# Load data\n",
    "mcycle = pd.read_csv('mcycle',delimiter='\\t')\n",
    "mcycle.times = (mcycle.times - mcycle.times.mean())/mcycle.times.std()\n",
    "mcycle.accel = (mcycle.accel - mcycle.accel.mean())/mcycle.accel.std()\n",
    "\n",
    "# Reshape to input format for network\n",
    "times = np.expand_dims(mcycle.times.values, 1)\n",
    "accel = np.expand_dims(mcycle.accel.values, 1)"
   ]
  },
  {
   "cell_type": "markdown",
   "metadata": {},
   "source": [
    "**Multi-Quantile loss function:**"
   ]
  },
  {
   "cell_type": "code",
   "execution_count": 4,
   "metadata": {},
   "outputs": [],
   "source": [
    "class MultiQuantileLoss(tf.keras.losses.Loss):\n",
    "    \n",
    "    def __init__(self, quantiles:list, **kwargs):\n",
    "        super(MultiQuantileLoss, self).__init__(**kwargs)\n",
    "        \n",
    "        self.quantiles = quantiles\n",
    "\n",
    "    def call(self, y_true, y_pred):\n",
    "        \n",
    "        # get quantile value\n",
    "        q_id = int(y_pred.name.split(\"/\")[1][1:])\n",
    "        q = self.quantiles[q_id]\n",
    "        \n",
    "        # minimize quantile error\n",
    "        q_error = tf.subtract(y_true, y_pred)\n",
    "        q_loss = tf.reduce_mean(tf.maximum(q*q_error, (q-1)*q_error), axis=-1)\n",
    "        return q_loss"
   ]
  },
  {
   "cell_type": "markdown",
   "metadata": {},
   "source": [
    "**General function for creating the Milti-Quantile Neural Network (MQNN):**"
   ]
  },
  {
   "cell_type": "code",
   "execution_count": 9,
   "metadata": {},
   "outputs": [],
   "source": [
    "def build_mqnn(quantiles:list, training_x_values:np.ndarray, internal_nodes:list = [32, 32],\n",
    "               model_name:str = \"mqnn\", optimizer=None, input_normalization:bool = True):\n",
    "    \"\"\"\n",
    "    Builds a MQNN\n",
    "    :param quantiles: List of floats with quantiles to be trained. E.g. [0.25, 0.50, 0.75]\n",
    "    :param training_x_values: 2-D numpy array with form [n-records, n-features]. NO categorical data expected.\n",
    "    :param internal_nodes: List of integers describing internal nodes. E.g. [24, 12] means: two dense layers with 24 and 12 nodes, respectively.\n",
    "    :param model_name: String to be used as model name. Default: 'mqnn'.\n",
    "    :param optimizer: A tf.optimizers.Optimizer object to be used as optimizer. If not given, uses default Adam with training step of 0.001.\n",
    "    :param input_normalization: Boolean. If True (default) includes a normalization step built in to the NN.\n",
    "    \"\"\"\n",
    "    \n",
    "    input_dim = training_x_values.shape[1]\n",
    "    output_dim = len(quantiles)\n",
    "    \n",
    "    # define normalizer\n",
    "    normalizer = preprocessing.Normalization()\n",
    "    normalizer.adapt(training_x_values)\n",
    "    \n",
    "    # build model's node structure\n",
    "    inputs = layers.Input(shape=input_dim)\n",
    "    mdl = normalizer(inputs)\n",
    "    for n_nodes in internal_nodes:\n",
    "        mdl = layers.Dense(n_nodes, activation='relu')(mdl)\n",
    "    outputs = [layers.Dense(1, activation='linear', name=\"q%d\" % q_i)(mdl) for q_i in range(output_dim)]\n",
    "    del input_dim, output_dim, mdl, normalizer\n",
    "    \n",
    "    # define optimizer and loss functions\n",
    "    optm_func = tf.optimizers.Adam(learning_rate=0.001) if optimizer is None else optimizer\n",
    "    loss_func = MultiQuantileLoss(quantiles=quantiles)\n",
    "    \n",
    "    # build and compile model\n",
    "    model = tf.keras.models.Model(inputs=inputs, outputs=outputs, name=model_name)\n",
    "    model.compile(optimizer=optm_func, loss=loss_func)\n",
    "    \n",
    "    return model"
   ]
  },
  {
   "cell_type": "markdown",
   "metadata": {},
   "source": [
    "**Instantiate model:**"
   ]
  },
  {
   "cell_type": "code",
   "execution_count": 10,
   "metadata": {},
   "outputs": [],
   "source": [
    "quantiles = [.1, .5, .9]\n",
    "model = build_mqnn(quantiles, times, internal_nodes=[32, 32], model_name=\"mqnn\")"
   ]
  },
  {
   "cell_type": "markdown",
   "metadata": {},
   "source": [
    "**Train model:**"
   ]
  },
  {
   "cell_type": "code",
   "execution_count": 11,
   "metadata": {},
   "outputs": [
    {
     "name": "stdout",
     "output_type": "stream",
     "text": [
      "Wall time: 5.6 s\n"
     ]
    }
   ],
   "source": [
    "%%time\n",
    "history = model.fit(\n",
    "    times, accel, \n",
    "    epochs=2000,\n",
    "    batch_size=32,\n",
    "    verbose=0\n",
    ")"
   ]
  },
  {
   "cell_type": "markdown",
   "metadata": {},
   "source": [
    "**Plot graphic:**"
   ]
  },
  {
   "cell_type": "code",
   "execution_count": 8,
   "metadata": {},
   "outputs": [
    {
     "data": {
      "image/png": "[encoded data removed]",
      "text/plain": [
       "<Figure size 432x288 with 1 Axes>"
      ]
     },
     "metadata": {
      "needs_background": "light"
     },
     "output_type": "display_data"
    }
   ],
   "source": [
    "# Reshape data for plotting\n",
    "test_times = np.expand_dims(np.linspace(times.min(),times.max(), 200), 1)\n",
    "predictions = np.asarray(model.predict(test_times))\n",
    "predictions = np.reshape(predictions, predictions.shape[0: 2])\n",
    "\n",
    "# Call plitting functions\n",
    "plt.scatter(times, accel, c=\"#777777\")\n",
    "for i, prediction in enumerate(predictions):\n",
    "    plt.plot(test_times, prediction, label='{}th Quantile'.format(int(quantiles[i]*100)))\n",
    "plt.legend()\n",
    "plt.show()"
   ]
  }
 ],
 "metadata": {
  "kernelspec": {
   "display_name": "Python 3",
   "language": "python",
   "name": "python3"
  },
  "language_info": {
   "codemirror_mode": {
    "name": "ipython",
    "version": 3
   },
   "file_extension": ".py",
   "mimetype": "text/x-python",
   "name": "python",
   "nbconvert_exporter": "python",
   "pygments_lexer": "ipython3",
   "version": "3.7.9"
  }
 },
 "nbformat": 4,
 "nbformat_minor": 4
}
